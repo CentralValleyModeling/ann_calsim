{
 "cells": [
  {
   "cell_type": "markdown",
   "id": "6036128e",
   "metadata": {},
   "source": [
    "# Hyperparameter search "
   ]
  },
  {
   "cell_type": "code",
   "execution_count": null,
   "id": "5b0990cd",
   "metadata": {},
   "outputs": [],
   "source": [
    "import numpy as np\n",
    "import pandas as pd\n",
    "\n",
    "import tensorflow as tf\n",
    "from tensorflow import keras\n",
    "from tensorflow.keras.layers.experimental.preprocessing import Normalization\n",
    "from tensorflow.keras import layers\n",
    "#import keras\n",
    "\n",
    "from sklearn.preprocessing import MinMaxScaler\n",
    "from sklearn.metrics import r2_score\n",
    "\n",
    "import hvplot.pandas\n",
    "import panel as pn\n",
    "import holoviews as hv\n",
    "hv.extension('bokeh')\n",
    "\n",
    "import os"
   ]
  },
  {
   "cell_type": "code",
   "execution_count": null,
   "id": "d894d7fd",
   "metadata": {},
   "outputs": [],
   "source": [
    "dflist = [pd.read_excel('./dsm2_ann_BaselineData_20220120.xlsx',i,index_col=0,parse_dates=True) for i in range(8)]"
   ]
  },
  {
   "cell_type": "code",
   "execution_count": null,
   "id": "c89a85ad",
   "metadata": {},
   "outputs": [],
   "source": [
    "dfinps = pd.concat(dflist[0:7],axis=1)\n",
    "dfinps.head()"
   ]
  },
  {
   "cell_type": "code",
   "execution_count": null,
   "id": "394ae7f3",
   "metadata": {},
   "outputs": [],
   "source": [
    "dfouts = dflist[7]"
   ]
  },
  {
   "cell_type": "code",
   "execution_count": null,
   "id": "1c5375ce",
   "metadata": {},
   "outputs": [],
   "source": [
    "dfouts"
   ]
  },
  {
   "cell_type": "markdown",
   "id": "997aa6af",
   "metadata": {},
   "source": [
    "## Tensorflow Board Setup\n",
    "A log directory to keep the training logs\n",
    "\n",
    "Tensorboard starts a separate process and is best started from the command line. Open a command window and activate this environment (i.e. keras) and goto the current directory. Then type in\n",
    "```\n",
    "tensorboard --logdir=./tf_training_logs/ --port=6006\n",
    "```"
   ]
  },
  {
   "cell_type": "code",
   "execution_count": null,
   "id": "85f4eb09",
   "metadata": {},
   "outputs": [],
   "source": [
    "from tensorflow import keras"
   ]
  },
  {
   "cell_type": "code",
   "execution_count": null,
   "id": "a0e46825",
   "metadata": {},
   "outputs": [],
   "source": [
    "# %load_ext tensorboard\n",
    "# %tensorboard --logdir=./tf_training_logs/ --port=6006\n",
    "#root_logdir = os.path.join(os.curdir, \"tf_training_logs\")\n",
    "#tensorboard_cb = keras.callbacks.TensorBoard(root_logdir)## Tensorflow Board Setup"
   ]
  },
  {
   "cell_type": "code",
   "execution_count": null,
   "id": "9b9fdc1a",
   "metadata": {},
   "outputs": [],
   "source": [
    "output_locations = list(dfouts.columns)\n",
    "calib_slice = slice('2000', '2020')\n",
    "valid_slice = slice('1990', '2000')"
   ]
  },
  {
   "cell_type": "code",
   "execution_count": null,
   "id": "3ca80c40",
   "metadata": {},
   "outputs": [],
   "source": [
    "import keras_tuner as kt"
   ]
  },
  {
   "cell_type": "code",
   "execution_count": null,
   "id": "13332756",
   "metadata": {},
   "outputs": [],
   "source": [
    "# Define Sequential model with 3 layers\n",
    "NFEATURES = 126  # (8 + 10)*7\n",
    "\n",
    "\n",
    "def build_model(hp):\n",
    "    #nhidden1=8, nhidden2=2, act_func='sigmoid'\n",
    "    act_func=hp.Choice(\"activation\", [\"relu\", \"tanh\",\"elu\",\"sigmoid\"])\n",
    "    model = keras.Sequential(\n",
    "        [\n",
    "            layers.Input(shape=(NFEATURES)),\n",
    "            #layers.Flatten(),\n",
    "            layers.Dense(hp.Int(\"nhidden1\", min_value=2, max_value=32, step=4), activation=act_func),\n",
    "            layers.Dense(hp.Int(\"nhidden2\", min_value=2, max_value=16, step=2), activation=act_func),\n",
    "            layers.Dense(1, activation=keras.activations.linear)\n",
    "        ])\n",
    "    model.compile(optimizer=keras.optimizers.Adam(\n",
    "        learning_rate=0.001), loss=\"mse\")\n",
    "    #model.compile(optimizer=keras.optimizers.RMSprop(), loss=\"mse\")\n",
    "    return model"
   ]
  },
  {
   "cell_type": "code",
   "execution_count": null,
   "id": "cef3e7c8",
   "metadata": {},
   "outputs": [],
   "source": [
    "build_model(kt.HyperParameters())"
   ]
  },
  {
   "cell_type": "code",
   "execution_count": null,
   "id": "6d9402cd",
   "metadata": {},
   "outputs": [],
   "source": [
    "tuner = kt.RandomSearch(\n",
    "    hypermodel=build_model,\n",
    "    objective=\"val_loss\",\n",
    "    max_trials=3,\n",
    "    executions_per_trial=2,\n",
    "    overwrite=True,\n",
    "    directory='tuner',\n",
    "    project_name=\"ann_dsm2\",\n",
    ")"
   ]
  },
  {
   "cell_type": "code",
   "execution_count": null,
   "id": "972a893b",
   "metadata": {},
   "outputs": [],
   "source": [
    "tuner.search_space_summary()"
   ]
  },
  {
   "cell_type": "code",
   "execution_count": null,
   "id": "023d21f1",
   "metadata": {},
   "outputs": [],
   "source": [
    "import annutils"
   ]
  },
  {
   "cell_type": "code",
   "execution_count": null,
   "id": "4127bf12",
   "metadata": {},
   "outputs": [],
   "source": [
    "location = 'Antioch'\n",
    "output_location = '%s' % location\n",
    "# create tuple of calibration and validation sets and the xscaler and yscaler on the combined inputs\n",
    "(xallc, yallc), (xallv, yallv), xscaler, yscaler = \\\n",
    "    annutils.create_training_sets([dfinps],\n",
    "                                  [dfouts[[output_location]]],\n",
    "                                  calib_slice=calib_slice,\n",
    "                                  valid_slice=valid_slice)\n",
    "tuner.search(xallc, yallc,\n",
    "             epochs=1000,\n",
    "             batch_size=128,\n",
    "             validation_data=(xallv, yallv),\n",
    "             callbacks=[\n",
    "                 keras.callbacks.EarlyStopping(\n",
    "                     monitor=\"val_loss\", patience=50, mode=\"min\", restore_best_weights=True),\n",
    "                 #tensorboard_cb\n",
    "             ],\n",
    "             )"
   ]
  },
  {
   "cell_type": "code",
   "execution_count": null,
   "id": "8d48a2e2",
   "metadata": {},
   "outputs": [],
   "source": []
  }
 ],
 "metadata": {
  "kernelspec": {
   "display_name": "Python [conda env:anntraining]",
   "language": "python",
   "name": "conda-env-anntraining-py"
  },
  "language_info": {
   "codemirror_mode": {
    "name": "ipython",
    "version": 3
   },
   "file_extension": ".py",
   "mimetype": "text/x-python",
   "name": "python",
   "nbconvert_exporter": "python",
   "pygments_lexer": "ipython3",
   "version": "3.8.12"
  },
  "toc": {
   "base_numbering": 1,
   "nav_menu": {},
   "number_sections": true,
   "sideBar": true,
   "skip_h1_title": false,
   "title_cell": "Table of Contents",
   "title_sidebar": "Contents",
   "toc_cell": false,
   "toc_position": {},
   "toc_section_display": true,
   "toc_window_display": false
  }
 },
 "nbformat": 4,
 "nbformat_minor": 5
}
