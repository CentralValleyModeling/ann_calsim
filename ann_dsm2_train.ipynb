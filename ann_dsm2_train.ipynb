{
 "cells": [
  {
   "cell_type": "markdown",
   "id": "e33e7463",
   "metadata": {},
   "source": [
    "# Train ANN with DSM2 data"
   ]
  },
  {
   "cell_type": "code",
   "execution_count": null,
   "id": "c42880e9",
   "metadata": {},
   "outputs": [],
   "source": [
    "import numpy as np\n",
    "import pandas as pd\n",
    "\n",
    "import tensorflow as tf\n",
    "from tensorflow import keras\n",
    "from tensorflow.keras.layers.experimental.preprocessing import Normalization\n",
    "from tensorflow.keras import layers\n",
    "#import keras\n",
    "\n",
    "from sklearn.preprocessing import MinMaxScaler\n",
    "from sklearn.metrics import r2_score\n",
    "\n",
    "import hvplot.pandas\n",
    "import panel as pn\n",
    "import holoviews as hv\n",
    "hv.extension('bokeh')\n",
    "\n",
    "import os"
   ]
  },
  {
   "cell_type": "code",
   "execution_count": null,
   "id": "db640526",
   "metadata": {},
   "outputs": [],
   "source": [
    "dflist = [pd.read_excel('./dsm2_ann_BaselineData_20220120.xlsx',i,index_col=0,parse_dates=True) for i in range(8)]"
   ]
  },
  {
   "cell_type": "code",
   "execution_count": null,
   "id": "0064f2de",
   "metadata": {},
   "outputs": [],
   "source": [
    "dfinps = pd.concat(dflist[0:7],axis=1)\n",
    "dfinps.head()"
   ]
  },
  {
   "cell_type": "code",
   "execution_count": null,
   "id": "bff1702b",
   "metadata": {},
   "outputs": [],
   "source": [
    "dfouts = dflist[7]"
   ]
  },
  {
   "cell_type": "code",
   "execution_count": null,
   "id": "3b598dae",
   "metadata": {},
   "outputs": [],
   "source": [
    "dfouts"
   ]
  },
  {
   "cell_type": "markdown",
   "id": "c84a39bc",
   "metadata": {},
   "source": [
    "## Tensorflow Board Setup\n",
    "A log directory to keep the training logs\n",
    "\n",
    "Tensorboard starts a separate process and is best started from the command line. Open a command window and activate this environment (i.e. keras) and goto the current directory. Then type in\n",
    "```\n",
    "tensorboard --logdir=./tf_training_logs/ --port=6006\n",
    "```"
   ]
  },
  {
   "cell_type": "code",
   "execution_count": null,
   "id": "bb97dc84-0cd9-4d00-87f8-952abbf2efe0",
   "metadata": {},
   "outputs": [],
   "source": [
    "from tensorflow import keras"
   ]
  },
  {
   "cell_type": "code",
   "execution_count": null,
   "id": "82fd54a3",
   "metadata": {},
   "outputs": [],
   "source": [
    "# %load_ext tensorboard\n",
    "# %tensorboard --logdir=./tf_training_logs/ --port=6006\n",
    "root_logdir = os.path.join(os.curdir, \"tf_training_logs\")\n",
    "tensorboard_cb = keras.callbacks.TensorBoard(root_logdir)## Tensorflow Board Setup"
   ]
  },
  {
   "cell_type": "markdown",
   "id": "a209223b",
   "metadata": {},
   "source": [
    "# Calibration and Validation Periods\n",
    "Calibration is from 1940 - 2015 and Validation from 1923 - 1939 as per the Calsim 3 ANN paper\n",
    "\n",
    "The output locations are names of the columns in the output(labels) csv files. For each location, an ANN is trained on all the specified data sets"
   ]
  },
  {
   "cell_type": "code",
   "execution_count": null,
   "id": "1b15b9e9",
   "metadata": {},
   "outputs": [],
   "source": [
    "output_locations = list(dfouts.columns)\n",
    "calib_slice = slice('1990', '2020')\n",
    "valid_slice = slice('1990', '2000')"
   ]
  },
  {
   "cell_type": "code",
   "execution_count": null,
   "id": "803eca3b",
   "metadata": {},
   "outputs": [],
   "source": [
    "# Define Sequential model with 3 layers\n",
    "NFEATURES = 126  # (8 + 10)*7\n",
    "\n",
    "\n",
    "def build_model(nhidden1=8, nhidden2=2, act_func='sigmoid'):\n",
    "    model = keras.Sequential(\n",
    "        [\n",
    "            layers.Input(shape=(NFEATURES)),\n",
    "            layers.Dense(nhidden1, activation=act_func),\n",
    "            layers.Dense(nhidden2, activation=act_func),\n",
    "            layers.Dense(1, activation=keras.activations.linear)\n",
    "        ])\n",
    "    model.compile(optimizer=keras.optimizers.Adam(\n",
    "        learning_rate=0.001), loss=\"mse\")\n",
    "    #model.compile(optimizer=keras.optimizers.RMSprop(), loss=\"mse\")\n",
    "    return model"
   ]
  },
  {
   "cell_type": "code",
   "execution_count": null,
   "id": "b7244215",
   "metadata": {},
   "outputs": [],
   "source": [
    "import annutils"
   ]
  },
  {
   "cell_type": "code",
   "execution_count": null,
   "id": "2be2383d",
   "metadata": {},
   "outputs": [],
   "source": [
    "for location in output_locations[0:1]:\n",
    "    output_location = '%s' % location\n",
    "    # create tuple of calibration and validation sets and the xscaler and yscaler on the combined inputs\n",
    "    (xallc, yallc), (xallv, yallv), xscaler, yscaler = \\\n",
    "        annutils.create_training_sets([dfinps],\n",
    "                                      [dfouts[[output_location]]],\n",
    "                                      calib_slice=calib_slice,\n",
    "                                      valid_slice=valid_slice)\n",
    "    model = build_model(8, 2, act_func='sigmoid')\n",
    "    display(model.summary())\n",
    "    history = model.fit(\n",
    "        xallc,\n",
    "        yallc,\n",
    "        epochs=5000,\n",
    "        batch_size=128,\n",
    "        validation_data=(xallv, yallv),\n",
    "        callbacks=[\n",
    "            keras.callbacks.EarlyStopping(\n",
    "                monitor=\"val_loss\", patience=50, mode=\"min\", restore_best_weights=True),\n",
    "            tensorboard_cb\n",
    "        ],\n",
    "    )\n",
    "    # pd.DataFrame(history.history).hvplot(logy=True) # if you want to view the graph for calibration/validation training\n",
    "    annutils.save_model(location, model, xscaler, yscaler)"
   ]
  },
  {
   "cell_type": "markdown",
   "id": "015a35b4",
   "metadata": {},
   "source": [
    "# Show the performance on the data sets visually\n",
    "\n",
    "Change the location to one of the locations for which the ANN is trained and run cells below to see performance on one or more of the data sets"
   ]
  },
  {
   "cell_type": "code",
   "execution_count": null,
   "id": "a0968bab",
   "metadata": {},
   "outputs": [],
   "source": [
    "output_location"
   ]
  },
  {
   "cell_type": "code",
   "execution_count": null,
   "id": "86408b46",
   "metadata": {},
   "outputs": [],
   "source": [
    "location = 'Antioch'\n",
    "output_location = '%s' % location\n",
    "print('Location: ', location)\n",
    "annmodel = annutils.load_model(location)"
   ]
  },
  {
   "cell_type": "code",
   "execution_count": null,
   "id": "df0c3ff9",
   "metadata": {},
   "outputs": [],
   "source": [
    "annutils.show_performance(annmodel.model, dfinps,\n",
    "                          dfouts[output_location], annmodel.xscaler, annmodel.yscaler)"
   ]
  },
  {
   "cell_type": "markdown",
   "id": "1166a544",
   "metadata": {},
   "source": [
    "# Display weights and x and y scaling parameters\n"
   ]
  },
  {
   "cell_type": "code",
   "execution_count": null,
   "id": "5873acc9",
   "metadata": {},
   "outputs": [],
   "source": [
    "annmodel.model.get_weights()"
   ]
  },
  {
   "cell_type": "code",
   "execution_count": null,
   "id": "9c4343da",
   "metadata": {},
   "outputs": [],
   "source": [
    "annmodel.xscaler.data_min_, annmodel.xscaler.data_max_"
   ]
  },
  {
   "cell_type": "code",
   "execution_count": null,
   "id": "de423ed5",
   "metadata": {},
   "outputs": [],
   "source": [
    "annmodel.xscaler.feature_range"
   ]
  },
  {
   "cell_type": "code",
   "execution_count": null,
   "id": "e056658d",
   "metadata": {},
   "outputs": [],
   "source": [
    "annmodel.xscaler.min_"
   ]
  },
  {
   "cell_type": "code",
   "execution_count": null,
   "id": "27e532ba",
   "metadata": {},
   "outputs": [],
   "source": [
    "annmodel.xscaler.scale_"
   ]
  },
  {
   "cell_type": "markdown",
   "id": "24d1c211",
   "metadata": {},
   "source": [
    "# Calibration and Validation Periods\n",
    "Calibration is from 1940 - 2015 and Validation from 1923 - 1939 as per the Calsim 3 ANN paper\n",
    "\n",
    "The output locations are names of the columns in the output(labels) csv files. For each location, an ANN is trained on all the specified data sets"
   ]
  },
  {
   "cell_type": "code",
   "execution_count": null,
   "id": "d96ac231",
   "metadata": {},
   "outputs": [],
   "source": []
  }
 ],
 "metadata": {
  "kernelspec": {
   "display_name": "Python 3 (ipykernel)",
   "language": "python",
   "name": "python3"
  },
  "language_info": {
   "codemirror_mode": {
    "name": "ipython",
    "version": 3
   },
   "file_extension": ".py",
   "mimetype": "text/x-python",
   "name": "python",
   "nbconvert_exporter": "python",
   "pygments_lexer": "ipython3",
   "version": "3.7.12"
  },
  "toc": {
   "base_numbering": 1,
   "nav_menu": {},
   "number_sections": true,
   "sideBar": true,
   "skip_h1_title": false,
   "title_cell": "Table of Contents",
   "title_sidebar": "Contents",
   "toc_cell": false,
   "toc_position": {},
   "toc_section_display": true,
   "toc_window_display": false
  }
 },
 "nbformat": 4,
 "nbformat_minor": 5
}
